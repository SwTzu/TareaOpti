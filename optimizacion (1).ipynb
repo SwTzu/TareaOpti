{
  "cells": [
    {
      "cell_type": "code",
      "execution_count": 815,
      "metadata": {
        "id": "iGONVKKaHWq_"
      },
      "outputs": [],
      "source": [
        "import random\n",
        "import numpy as np\n",
        "import math\n",
        "import scipy.special\n",
        "from rich.console import Console\n",
        "from rich.table import Table"
      ]
    },
    {
      "cell_type": "code",
      "execution_count": 816,
      "metadata": {
        "id": "7ErezhuKU1A1"
      },
      "outputs": [],
      "source": [
        "domains = {\n",
        "    'x1': [i for i in range(0,16)],\n",
        "    'x2': [i for i in range(0,11)],\n",
        "    'x3': [i for i in range(0,26)],\n",
        "    'x4': [i for i in range(0,5)],\n",
        "    'x5': [i for i in range(0,31)],\n",
        "}"
      ]
    },
    {
      "cell_type": "code",
      "execution_count": 817,
      "metadata": {
        "id": "M6JnDJdPU2Y4"
      },
      "outputs": [],
      "source": [
        "constraints = {\n",
        "    ('x1', 'x2'): lambda x1, x2:  164*x1 <= 3800-310*x2,\n",
        "    ('x2', 'x1'): lambda x2, x1:  3800-310*x2 >= 164*x1,\n",
        "    ('x3', 'x4'): lambda x3, x4:  46*x3 <= 2800-111*x4,\n",
        "    ('x4', 'x3'): lambda x4, x3:  2800-111*x4 >= 46*x3,\n",
        "    ('x3', 'x5'): lambda x3, x5:  46*x3 <= 3500-12*x5,\n",
        "    ('x5', 'x3'): lambda x5, x3:  3500-12*x5 >= 46*x3,\n",
        "}"
      ]
    },
    {
      "cell_type": "code",
      "execution_count": 818,
      "metadata": {
        "id": "6WvzZjgJU4N1"
      },
      "outputs": [],
      "source": [
        "def revise(x, y):\n",
        "    revised = False\n",
        "    x_domain = domains[x]\n",
        "    y_domain = domains[y]\n",
        "    all_constraints = [\n",
        "        constraint for constraint in constraints if constraint[0] == x and constraint[1] == y]\n",
        "    for x_value in x_domain:\n",
        "        satisfies = False\n",
        "        for y_value in y_domain:\n",
        "            for constraint in all_constraints:\n",
        "                constraint_func = constraints[constraint]\n",
        "                if constraint_func(x_value, y_value):\n",
        "                    satisfies = True\n",
        "        if not satisfies:\n",
        "            x_domain.remove(x_value)\n",
        "            revised = True\n",
        "    return revised\n",
        "\n",
        "def ac3(arcs):\n",
        "    queue = arcs[:]\n",
        "    while queue:\n",
        "        (x, y) = queue.pop(0)\n",
        "        revised = revise(x, y)\n",
        "        if revised:\n",
        "            neighbors = [neighbor for neighbor in arcs if neighbor[1] == x]\n",
        "            queue = queue + neighbors"
      ]
    },
    {
      "cell_type": "code",
      "execution_count": 819,
      "metadata": {
        "id": "hrtItVqYU6cI"
      },
      "outputs": [],
      "source": [
        "arcs = [\n",
        "    ('x1', 'x2'), ('x2', 'x1'),\n",
        "    ('x3', 'x4'), ('x4', 'x3'),\n",
        "    ('x3', 'x5') ,('x5', 'x3'),\n",
        "]"
      ]
    },
    {
      "cell_type": "code",
      "execution_count": 820,
      "metadata": {
        "id": "0_zppPU3U73G"
      },
      "outputs": [],
      "source": [
        "ac3(arcs)"
      ]
    },
    {
      "cell_type": "code",
      "execution_count": 821,
      "metadata": {
        "id": "GQcTvvgoHWrA"
      },
      "outputs": [],
      "source": [
        "def maximizar(x):\n",
        "    x1,x2,x3,x4,x5=x\n",
        "    return 67*x1+91*x2+43*x3+71*x4+23*x5"
      ]
    },
    {
      "cell_type": "code",
      "execution_count": 822,
      "metadata": {
        "id": "xnYOWuF3eal_"
      },
      "outputs": [],
      "source": [
        "def minimizar(x):\n",
        "    x1,x2,x3,x4,x5=x\n",
        "    return 164*x1+310*x2+46*x3+111*x4+12*x5"
      ]
    },
    {
      "cell_type": "code",
      "execution_count": 823,
      "metadata": {},
      "outputs": [],
      "source": [
        "def restricciones(x):\n",
        "    x1,x2,x3,x4,x5=x\n",
        "    return (0<= x1 and x1<=15 and 0<=x2 and x2<=10 and 0<=x3 and x3<=25 and 0<=x4 and x4<=4 and 0<=x5 and x5<=30 \\\n",
        "            and 164*x1+310*x2<=3800 and 46*x3+111*x4<= 2800 and 46*x3+13*x5<= 3500)"
      ]
    },
    {
      "cell_type": "code",
      "execution_count": 824,
      "metadata": {},
      "outputs": [],
      "source": [
        "def scalarizing(x,wp, wq):\n",
        "    x1,x2,x3,x4,x5=x\n",
        "    cap=5000\n",
        "    frac1=(67*x1+91*x2+43*x3+71*x4+23*x5)/3418\n",
        "    frac2=(cap-(164*x1+310*x2+46*x3+111*x4+12*x5)) / (cap-0)\n",
        "    return wp*frac1 + wq*frac2"
      ]
    },
    {
      "cell_type": "code",
      "execution_count": 825,
      "metadata": {},
      "outputs": [],
      "source": [
        "wp=0.5\n",
        "wq=0.5"
      ]
    },
    {
      "cell_type": "code",
      "execution_count": 826,
      "metadata": {
        "id": "BUA-IQWMxpdu"
      },
      "outputs": [],
      "source": [
        "def Cl() -> float:\n",
        "    return random.uniform(0.674,1.5)"
      ]
    },
    {
      "cell_type": "code",
      "execution_count": 827,
      "metadata": {
        "id": "-XSex_QxHWrA"
      },
      "outputs": [],
      "source": [
        "def gliding():\n",
        "    ro = 1.204#𝜌\n",
        "    hg = 8\n",
        "    V = 5.25\n",
        "    S = 154\n",
        "    Gc = 1.9\n",
        "    Cd = 0.60\n",
        "    L = 1 / 2 * (ro * (Cl()) * (V**2) * S)\n",
        "    D = 1 / 2 * (ro * (V**2) * S * Cd)\n",
        "    artc = np.arctan(D / L)\n",
        "    dg = hg / np.tan(artc)\n",
        "    sf = 18\n",
        "    return dg / sf\n"
      ]
    },
    {
      "cell_type": "code",
      "execution_count": 828,
      "metadata": {
        "colab": {
          "base_uri": "https://localhost:8080/"
        },
        "id": "PqlYqcT3T6oS",
        "outputId": "c585737b-2190-4602-ea8d-b46d88cf5222"
      },
      "outputs": [
        {
          "data": {
            "text/plain": [
              "0.6965745025576968"
            ]
          },
          "execution_count": 828,
          "metadata": {},
          "output_type": "execute_result"
        }
      ],
      "source": [
        "def rho():\n",
        "    beta=1.5\n",
        "    return ((scipy.special.gamma(beta+1)*np.sin((math.pi*beta)/2))/ \\\n",
        "     (scipy.special.gamma((1+beta)/2)*beta*(2)**((beta-1)/2)))**(1/beta)\n",
        "rho()"
      ]
    },
    {
      "cell_type": "code",
      "execution_count": 829,
      "metadata": {
        "id": "hFGbNMJiVeTq"
      },
      "outputs": [],
      "source": [
        "def levy():\n",
        "    beta = 1.5\n",
        "    sigma = (scipy.special.gamma(1 + beta) * np.sin(np.pi * beta / 2) /\n",
        "             (scipy.special.gamma((1 + beta) / 2) * beta * 2**((beta - 1) / 2)))**(1 / beta)\n",
        "    u = np.random.normal(0, sigma, size=len(lower_band))\n",
        "    v = np.random.normal(0, 1, size=len(lower_band))\n",
        "    step = u / np.abs(v)**(1 / beta)\n",
        "    return 0.01 * step"
      ]
    },
    {
      "cell_type": "code",
      "execution_count": 830,
      "metadata": {
        "id": "t9YHNQ_mYo65"
      },
      "outputs": [],
      "source": [
        "def randomloc(index):\n",
        "    return lower_band[index] + levy()[index] * (upper_band[index] - lower_band[index])"
      ]
    },
    {
      "cell_type": "code",
      "execution_count": 831,
      "metadata": {
        "id": "l9ybzmVmZEhi"
      },
      "outputs": [],
      "source": [
        "def actualizar_valores(i, ref_vector, Pdp):\n",
        "    for u, v in enumerate(i):\n",
        "        if random.uniform(0, 1) >= Pdp:\n",
        "            new_value = v + gliding() * 1.9 * (ref_vector[u] - v)\n",
        "        else:\n",
        "            new_value = randomloc(u)\n",
        "        i[u] = new_value\n",
        "    return np.clip(i, lower_band, upper_band)"
      ]
    },
    {
      "cell_type": "code",
      "execution_count": 832,
      "metadata": {
        "id": "3wgwXzj0ZJgL"
      },
      "outputs": [],
      "source": [
        "def Smin(t,maxiter):\n",
        "    return (10 * 10**-6)/(365**(t/(maxiter/2.5)))"
      ]
    },
    {
      "cell_type": "code",
      "execution_count": 833,
      "metadata": {
        "id": "RU4EGBLOHWrB"
      },
      "outputs": [],
      "source": [
        "maxiter=1000\n",
        "popsize=50\n",
        "lower_band=[domains[f\"x{i+1}\"][0] for i in range(len(domains.keys()))]\n",
        "upper_band=[domains[f\"x{i+1}\"][-1] for i in range(len(domains.keys()))]\n",
        "# lower_band\n",
        "# upper_band"
      ]
    },
    {
      "cell_type": "markdown",
      "metadata": {
        "id": "RZaXWU13ZFzF"
      },
      "source": [
        "peor fitness = hickory \\\n",
        "los siguientes 3 = bellota a hickory \\\n",
        "el rest = normal"
      ]
    },
    {
      "cell_type": "code",
      "execution_count": 834,
      "metadata": {},
      "outputs": [],
      "source": [
        "FS=[]\n",
        "for i in range(popsize):\n",
        "    while True:\n",
        "        aux=[random.uniform(lower_band[j], upper_band[j]) for j in range(len(lower_band))]\n",
        "        if restricciones(aux):\n",
        "            break\n",
        "    FS.append(aux)"
      ]
    },
    {
      "cell_type": "code",
      "execution_count": 835,
      "metadata": {},
      "outputs": [
        {
          "name": "stdout",
          "output_type": "stream",
          "text": [
            "[0.5416590274288324, 8.662234616347709, 10.416656336346671, 1.9058372819164036, 9.667461012628]\n",
            "[6.688369986430106, 1.0532962835185589, 20.006994365069232, 2.8577223759316723, 8.555393409970858]\n",
            "[3.472723884870823, 8.00172558698023, 21.12182743288706, 2.989269022443677, 6.109718659602241]\n",
            "[5.585389181306706, 5.895552178962119, 19.455549682189453, 1.8260746749330394, 8.982741641218608]\n",
            "[1.1328365523819435, 3.1714873250313746, 9.504125639225606, 3.604934555110644, 2.0076035055754526]\n",
            "[5.726196247312751, 0.7875746441488152, 18.550818145812734, 2.6842014087917345, 3.1724998372063085]\n",
            "[11.896123272573892, 4.844233215752135, 8.75554449838814, 1.2943831641178045, 10.391451716621686]\n",
            "[8.015928061229825, 2.28750543549829, 15.816073174796793, 0.9441815374006688, 12.139410985599127]\n",
            "[1.9345793643841462, 3.9701280100792324, 15.26361585804768, 3.4813531441211416, 21.106484646016753]\n",
            "[4.015195503582534, 1.3707804620182151, 13.79655726932536, 3.7622505608915247, 21.024134497363598]\n",
            "[7.874310827945442, 7.717866969168222, 13.752570432374716, 3.177286016573995, 16.04231217694361]\n",
            "[0.20957528073468623, 8.429489072105358, 17.710473008286343, 0.3713350809908098, 18.455826622318448]\n",
            "[6.9551100175784475, 0.07184862878837461, 15.524571126047265, 2.804923831714112, 20.83620819659693]\n",
            "[12.869188448441188, 3.212629911247178, 21.21190489322159, 2.4780464316760176, 5.132557330069619]\n",
            "[0.8494281633219619, 5.851808208929352, 17.370555363600452, 2.7972216044718854, 5.720380933630976]\n",
            "[3.4440022768972396, 3.7305958754338597, 13.323066556207436, 3.755038900419891, 14.883655548255822]\n",
            "[4.994369158453827, 1.9699681004342695, 23.558428852089143, 1.0297199313453698, 28.730773865108613]\n",
            "[0.527990474284627, 4.32760199784933, 4.617160385120512, 0.00385213947414087, 9.655821333923782]\n",
            "[5.081521659984351, 7.055770377574653, 4.596429285513831, 2.086913788727378, 20.759065835289444]\n",
            "[12.89381252465735, 1.8915830505873188, 17.265353445327104, 3.877194773299935, 29.937640797727315]\n",
            "[4.62508429883449, 7.800863481262077, 12.976334045117191, 3.8186344680140603, 14.636513107870861]\n",
            "[0.7063310956395125, 9.51558338533588, 0.8429897324567087, 0.5097287009475897, 15.52504583580999]\n",
            "[5.374555418977664, 5.788227491447149, 19.04270782485961, 3.84166825838662, 24.56275377815676]\n",
            "[5.406855849502164, 8.798534150418865, 23.74550759678502, 3.731922309247939, 28.55321249301594]\n",
            "[11.60112149928552, 0.5086702758487915, 1.8634834151928292, 3.5076303756183984, 8.384972798384565]\n",
            "[0.432855708605811, 2.933897966393042, 0.2185107426509736, 1.124307650369813, 9.05795147046277]\n",
            "[3.3283525714748685, 8.444930869646184, 14.307090738794312, 0.7127840124398919, 24.649042913550186]\n",
            "[4.6197933599901955, 5.600042384575508, 2.589029723853531, 2.1846648136172626, 20.94304866693602]\n",
            "[9.195016119825484, 2.422403933757903, 21.46411563095434, 0.43296552568100477, 25.74919480048783]\n",
            "[0.19222573169889678, 6.953995353722297, 20.344095875391314, 2.86194678168766, 6.389785424414769]\n",
            "[10.278487681242211, 0.6389425156943906, 18.84413645163657, 0.16526667646070115, 26.272488287508487]\n",
            "[11.435370581936562, 6.007931171722682, 2.2993673239791956, 0.02643181477694645, 2.4712622489211333]\n",
            "[6.655643257283948, 7.695818989467408, 13.032186672086732, 0.4942286382628316, 9.306660831700402]\n",
            "[4.037797427292948, 7.352149895209724, 17.332758694449666, 3.561158695296145, 24.549148230482697]\n",
            "[4.023705480112039, 4.120781515540147, 6.004959717745647, 0.11485108049656123, 19.944326852016246]\n",
            "[0.665882525633652, 8.813766429678472, 13.184992058690797, 0.979403509793157, 25.37655233567754]\n",
            "[6.857326266790169, 7.401117131956468, 20.455500341689714, 1.341359930873025, 10.057425580883926]\n",
            "[5.084040351223924, 8.20494437365799, 10.959961308480947, 0.8974751221633581, 22.601426705721092]\n",
            "[4.773135201137423, 6.9698846904256415, 9.84948982932429, 1.67633415198314, 8.343818983038414]\n",
            "[4.531408754075256, 6.591729164936035, 17.031881639261165, 0.6335988416429772, 0.6464474836894185]\n",
            "[0.2329054033898209, 4.954328146290544, 17.637362662344216, 3.0227323313448986, 8.523453806840223]\n",
            "[9.282629929348746, 4.951786382193511, 12.448404620119852, 2.631489009307821, 9.895814367755657]\n",
            "[12.614561677140566, 1.5992721851086256, 11.907957124874446, 0.509149731933193, 22.820237539913226]\n",
            "[6.654138458662613, 1.7729956313504458, 20.76949102452513, 2.586926961656179, 11.851880117278931]\n",
            "[10.47059296068834, 3.084038463345057, 17.836489983971315, 3.8591503210703073, 28.77789836967455]\n",
            "[12.99079008753986, 5.178542458059965, 1.0701682331069051, 1.856915577369982, 29.992884939566366]\n",
            "[12.106193571178084, 0.6567817243236751, 11.024270828515004, 3.106335419203883, 7.3756743740474615]\n",
            "[1.1146734988020157, 7.141408425013131, 20.07062028216039, 2.0908104306930078, 18.510661910400614]\n",
            "[3.7399841214912897, 4.7606436990209575, 0.1716285935828954, 0.11133390108675956, 13.921900518551926]\n",
            "[3.266484070277817, 3.4740811260097537, 4.97190726653575, 3.9806638885596297, 11.43457199931097]\n"
          ]
        }
      ],
      "source": [
        "for i in FS:\n",
        "    print(i)"
      ]
    },
    {
      "cell_type": "code",
      "execution_count": 836,
      "metadata": {
        "id": "k1C6xQRQx7la"
      },
      "outputs": [],
      "source": [
        "fitness_values = [scalarizing(ind,wp,wq) for ind in FS]"
      ]
    },
    {
      "cell_type": "code",
      "execution_count": 837,
      "metadata": {},
      "outputs": [
        {
          "data": {
            "text/plain": [
              "[0.3803786953221582,\n",
              " 0.4875279841926609,\n",
              " 0.38233985901399337,\n",
              " 0.40988542910840675,\n",
              " 0.45426326313282406,\n",
              " 0.4845885328721676,\n",
              " 0.37218037466852716,\n",
              " 0.45897669919260853,\n",
              " 0.4860095226525012,\n",
              " 0.5153988021088578,\n",
              " 0.36722451523701877,\n",
              " 0.41913326106555254,\n",
              " 0.5221714394378918,\n",
              " 0.4034452583234175,\n",
              " 0.4306326900733082,\n",
              " 0.4633408975467057,\n",
              " 0.5334704140376242,\n",
              " 0.44867039109197526,\n",
              " 0.39287718222634616,\n",
              " 0.472671917339319,\n",
              " 0.38238520933892567,\n",
              " 0.36169175069351334,\n",
              " 0.44476210559310875,\n",
              " 0.40796693886005186,\n",
              " 0.43324294305717836,\n",
              " 0.46442156006003693,\n",
              " 0.4056887258153957,\n",
              " 0.41860869598769046,\n",
              " 0.4881801807292272,\n",
              " 0.4219026274132188,\n",
              " 0.5094719054580641,\n",
              " 0.32748631651700183,\n",
              " 0.3617744119501716,\n",
              " 0.42320102689190364,\n",
              " 0.4537969738693892,\n",
              " 0.41622202103302475,\n",
              " 0.37922370364416264,\n",
              " 0.3881265506539989,\n",
              " 0.3787300044586386,\n",
              " 0.38323692704277534,\n",
              " 0.4569331863231231,\n",
              " 0.3917387751982881,\n",
              " 0.4576281195124663,\n",
              " 0.4836412157292282,\n",
              " 0.46603823947232853,\n",
              " 0.3880799428659033,\n",
              " 0.44087578784022213,\n",
              " 0.43882479667161406,\n",
              " 0.42145833892421314,\n",
              " 0.4473074950750138]"
            ]
          },
          "execution_count": 837,
          "metadata": {},
          "output_type": "execute_result"
        }
      ],
      "source": [
        "fitness_values"
      ]
    },
    {
      "cell_type": "code",
      "execution_count": 838,
      "metadata": {
        "id": "Cxr_PqBmZZwT"
      },
      "outputs": [],
      "source": [
        "FS = [x for _, x in sorted(zip(fitness_values, FS), key=lambda pair: pair[0])]"
      ]
    },
    {
      "cell_type": "code",
      "execution_count": 839,
      "metadata": {},
      "outputs": [
        {
          "name": "stdout",
          "output_type": "stream",
          "text": [
            "[11.435370581936562, 6.007931171722682, 2.2993673239791956, 0.02643181477694645, 2.4712622489211333]\n",
            "[0.7063310956395125, 9.51558338533588, 0.8429897324567087, 0.5097287009475897, 15.52504583580999]\n",
            "[6.655643257283948, 7.695818989467408, 13.032186672086732, 0.4942286382628316, 9.306660831700402]\n",
            "[7.874310827945442, 7.717866969168222, 13.752570432374716, 3.177286016573995, 16.04231217694361]\n",
            "[11.896123272573892, 4.844233215752135, 8.75554449838814, 1.2943831641178045, 10.391451716621686]\n",
            "[4.773135201137423, 6.9698846904256415, 9.84948982932429, 1.67633415198314, 8.343818983038414]\n",
            "[6.857326266790169, 7.401117131956468, 20.455500341689714, 1.341359930873025, 10.057425580883926]\n",
            "[0.5416590274288324, 8.662234616347709, 10.416656336346671, 1.9058372819164036, 9.667461012628]\n",
            "[3.472723884870823, 8.00172558698023, 21.12182743288706, 2.989269022443677, 6.109718659602241]\n",
            "[4.62508429883449, 7.800863481262077, 12.976334045117191, 3.8186344680140603, 14.636513107870861]\n",
            "[4.531408754075256, 6.591729164936035, 17.031881639261165, 0.6335988416429772, 0.6464474836894185]\n",
            "[12.99079008753986, 5.178542458059965, 1.0701682331069051, 1.856915577369982, 29.992884939566366]\n",
            "[5.084040351223924, 8.20494437365799, 10.959961308480947, 0.8974751221633581, 22.601426705721092]\n",
            "[9.282629929348746, 4.951786382193511, 12.448404620119852, 2.631489009307821, 9.895814367755657]\n",
            "[5.081521659984351, 7.055770377574653, 4.596429285513831, 2.086913788727378, 20.759065835289444]\n",
            "[12.869188448441188, 3.212629911247178, 21.21190489322159, 2.4780464316760176, 5.132557330069619]\n",
            "[3.3283525714748685, 8.444930869646184, 14.307090738794312, 0.7127840124398919, 24.649042913550186]\n",
            "[5.406855849502164, 8.798534150418865, 23.74550759678502, 3.731922309247939, 28.55321249301594]\n",
            "[5.585389181306706, 5.895552178962119, 19.455549682189453, 1.8260746749330394, 8.982741641218608]\n",
            "[0.665882525633652, 8.813766429678472, 13.184992058690797, 0.979403509793157, 25.37655233567754]\n",
            "[4.6197933599901955, 5.600042384575508, 2.589029723853531, 2.1846648136172626, 20.94304866693602]\n",
            "[0.20957528073468623, 8.429489072105358, 17.710473008286343, 0.3713350809908098, 18.455826622318448]\n",
            "[3.7399841214912897, 4.7606436990209575, 0.1716285935828954, 0.11133390108675956, 13.921900518551926]\n",
            "[0.19222573169889678, 6.953995353722297, 20.344095875391314, 2.86194678168766, 6.389785424414769]\n",
            "[4.037797427292948, 7.352149895209724, 17.332758694449666, 3.561158695296145, 24.549148230482697]\n",
            "[0.8494281633219619, 5.851808208929352, 17.370555363600452, 2.7972216044718854, 5.720380933630976]\n",
            "[11.60112149928552, 0.5086702758487915, 1.8634834151928292, 3.5076303756183984, 8.384972798384565]\n",
            "[1.1146734988020157, 7.141408425013131, 20.07062028216039, 2.0908104306930078, 18.510661910400614]\n",
            "[12.106193571178084, 0.6567817243236751, 11.024270828515004, 3.106335419203883, 7.3756743740474615]\n",
            "[5.374555418977664, 5.788227491447149, 19.04270782485961, 3.84166825838662, 24.56275377815676]\n",
            "[3.266484070277817, 3.4740811260097537, 4.97190726653575, 3.9806638885596297, 11.43457199931097]\n",
            "[0.527990474284627, 4.32760199784933, 4.617160385120512, 0.00385213947414087, 9.655821333923782]\n",
            "[4.023705480112039, 4.120781515540147, 6.004959717745647, 0.11485108049656123, 19.944326852016246]\n",
            "[1.1328365523819435, 3.1714873250313746, 9.504125639225606, 3.604934555110644, 2.0076035055754526]\n",
            "[0.2329054033898209, 4.954328146290544, 17.637362662344216, 3.0227323313448986, 8.523453806840223]\n",
            "[12.614561677140566, 1.5992721851086256, 11.907957124874446, 0.509149731933193, 22.820237539913226]\n",
            "[8.015928061229825, 2.28750543549829, 15.816073174796793, 0.9441815374006688, 12.139410985599127]\n",
            "[3.4440022768972396, 3.7305958754338597, 13.323066556207436, 3.755038900419891, 14.883655548255822]\n",
            "[0.432855708605811, 2.933897966393042, 0.2185107426509736, 1.124307650369813, 9.05795147046277]\n",
            "[10.47059296068834, 3.084038463345057, 17.836489983971315, 3.8591503210703073, 28.77789836967455]\n",
            "[12.89381252465735, 1.8915830505873188, 17.265353445327104, 3.877194773299935, 29.937640797727315]\n",
            "[6.654138458662613, 1.7729956313504458, 20.76949102452513, 2.586926961656179, 11.851880117278931]\n",
            "[5.726196247312751, 0.7875746441488152, 18.550818145812734, 2.6842014087917345, 3.1724998372063085]\n",
            "[1.9345793643841462, 3.9701280100792324, 15.26361585804768, 3.4813531441211416, 21.106484646016753]\n",
            "[6.688369986430106, 1.0532962835185589, 20.006994365069232, 2.8577223759316723, 8.555393409970858]\n",
            "[9.195016119825484, 2.422403933757903, 21.46411563095434, 0.43296552568100477, 25.74919480048783]\n",
            "[10.278487681242211, 0.6389425156943906, 18.84413645163657, 0.16526667646070115, 26.272488287508487]\n",
            "[4.015195503582534, 1.3707804620182151, 13.79655726932536, 3.7622505608915247, 21.024134497363598]\n",
            "[6.9551100175784475, 0.07184862878837461, 15.524571126047265, 2.804923831714112, 20.83620819659693]\n",
            "[4.994369158453827, 1.9699681004342695, 23.558428852089143, 1.0297199313453698, 28.730773865108613]\n"
          ]
        }
      ],
      "source": [
        "for i in FS:\n",
        "    print(i)"
      ]
    },
    {
      "cell_type": "code",
      "execution_count": 840,
      "metadata": {
        "id": "mgi47hltZa0S"
      },
      "outputs": [],
      "source": [
        "trees = [1]\n",
        "if popsize > 1:\n",
        "    trees.extend([2] * min(popsize - 1, 3))\n",
        "if popsize > 4:\n",
        "    trees.extend(random.randint(3, 4) for _ in range(popsize - 4))"
      ]
    },
    {
      "cell_type": "code",
      "execution_count": 841,
      "metadata": {
        "id": "n1AjqtSKZNsy"
      },
      "outputs": [],
      "source": [
        "Pdp=0.01\n",
        "for iterable in range(maxiter):\n",
        "    Sc = []\n",
        "    for j, i in enumerate(FS[1:4]):\n",
        "        resta = 0\n",
        "        while True:\n",
        "            FS[j + 1] = actualizar_valores(i, FS[0], Pdp)\n",
        "            if restricciones(FS[j+1]):\n",
        "                break\n",
        "        resta = np.array(i) - np.array(FS[0])\n",
        "        resta = np.sqrt(np.sum(resta**2))\n",
        "        Sc.append(resta)\n",
        "\n",
        "    for idx, j in enumerate(FS[4:]):\n",
        "        if trees[idx + 4] == 3:\n",
        "            ref_vector = random.choice(FS[1:4])\n",
        "        else:\n",
        "            ref_vector = FS[0]\n",
        "        while True:\n",
        "            FS[idx + 4] = actualizar_valores(j, ref_vector, Pdp)\n",
        "            if restricciones(FS[idx + 4]):\n",
        "                break\n",
        "        \n",
        "    for idx, value in enumerate(Sc):\n",
        "        if value < Smin(iterable, maxiter):\n",
        "            while True:\n",
        "                for i in range(len(FS[idx + 1])):\n",
        "                    FS[idx + 1][i] = randomloc(i)\n",
        "                if restricciones(FS[idx + 1]):\n",
        "                    break\n",
        "            FS[idx + 1] = np.clip(FS[idx + 1], lower_band, upper_band)\n",
        "\n",
        "    fitness_values = [scalarizing(ind,wp,wq) for ind in FS]\n",
        "    FS = [x for _, x in sorted(zip(fitness_values, FS), key=lambda pair: pair[0])]\n",
        "\n",
        "    trees = [1]\n",
        "    if popsize > 1:\n",
        "        trees.extend([2] * min(popsize - 1, 3))\n",
        "    if popsize > 4:\n",
        "        trees.extend(random.randint(3, 4) for _ in range(popsize - 4))"
      ]
    },
    {
      "cell_type": "code",
      "execution_count": 842,
      "metadata": {},
      "outputs": [],
      "source": [
        "cons=Console()\n",
        "tabla=Table(title=\"SSA FS resultantes\",show_header=True,header_style=\"bold magenta\")\n",
        "tabla.add_column(\"FS\",justify=\"full\",no_wrap=True)\n",
        "tabla.add_column(\"Maximizacion\",style=\"dim\",justify=\"full\",no_wrap=True)\n",
        "tabla.add_column(\"Minimizacion\",style=\"dim\",justify=\"full\")\n",
        "tabla.add_column(\"Scalarizing\",style=\"dim\",justify=\"full\")\n",
        "tabla.add_column(\"Restricciones\",style=\"dim\",justify=\"full\")\n",
        "for j in FS:\n",
        "    tabla.add_row(str(j),str(maximizar(j)),str(minimizar(j)),str(scalarizing(j,wp,wq)),str(restricciones(j)))"
      ]
    },
    {
      "cell_type": "code",
      "execution_count": 843,
      "metadata": {},
      "outputs": [
        {
          "data": {
            "text/html": [
              "<pre style=\"white-space:pre;overflow-x:auto;line-height:normal;font-family:Menlo,'DejaVu Sans Mono',consolas,'Courier New',monospace\"><span style=\"font-style: italic\">                                                SSA FS resultantes                                                 </span>\n",
              "┏━━━━━━━━━━━━━━━━━━━━━━━━━━━━━━━━━━━━━━━━━━━━━━━━━━━━━━━━━━━━━━━┳━━━━━━━━━━━━━━━━━━━━┳━━━━━━━━━┳━━━━━━━━━┳━━━━━━━━┓\n",
              "┃<span style=\"color: #800080; text-decoration-color: #800080; font-weight: bold\"> FS                                                            </span>┃<span style=\"color: #800080; text-decoration-color: #800080; font-weight: bold\"> Maximizacion       </span>┃<span style=\"color: #800080; text-decoration-color: #800080; font-weight: bold\"> Minimi… </span>┃<span style=\"color: #800080; text-decoration-color: #800080; font-weight: bold\"> Scalar… </span>┃<span style=\"color: #800080; text-decoration-color: #800080; font-weight: bold\"> Restr… </span>┃\n",
              "┡━━━━━━━━━━━━━━━━━━━━━━━━━━━━━━━━━━━━━━━━━━━━━━━━━━━━━━━━━━━━━━━╇━━━━━━━━━━━━━━━━━━━━╇━━━━━━━━━╇━━━━━━━━━╇━━━━━━━━┩\n",
              "│ [ 4.26829268 10.          0.          4.          0.        ] │<span style=\"color: #7f7f7f; text-decoration-color: #7f7f7f\"> 1479.9756097560974 </span>│<span style=\"color: #7f7f7f; text-decoration-color: #7f7f7f\"> 4244.0  </span>│<span style=\"color: #7f7f7f; text-decoration-color: #7f7f7f\"> 0.2920… </span>│<span style=\"color: #7f7f7f; text-decoration-color: #7f7f7f\"> True   </span>│\n",
              "│ [ 4.26829268 10.          0.          4.          0.        ] │<span style=\"color: #7f7f7f; text-decoration-color: #7f7f7f\"> 1479.9756097560976 </span>│<span style=\"color: #7f7f7f; text-decoration-color: #7f7f7f\"> 4244.0  </span>│<span style=\"color: #7f7f7f; text-decoration-color: #7f7f7f\"> 0.2920… </span>│<span style=\"color: #7f7f7f; text-decoration-color: #7f7f7f\"> True   </span>│\n",
              "│ [ 4.26829268 10.          0.          4.          0.        ] │<span style=\"color: #7f7f7f; text-decoration-color: #7f7f7f\"> 1479.9756097560914 </span>│<span style=\"color: #7f7f7f; text-decoration-color: #7f7f7f\"> 4243.9… </span>│<span style=\"color: #7f7f7f; text-decoration-color: #7f7f7f\"> 0.2920… </span>│<span style=\"color: #7f7f7f; text-decoration-color: #7f7f7f\"> True   </span>│\n",
              "│ [ 4.26829268 10.          0.          4.          0.        ] │<span style=\"color: #7f7f7f; text-decoration-color: #7f7f7f\"> 1479.975609755548  </span>│<span style=\"color: #7f7f7f; text-decoration-color: #7f7f7f\"> 4243.9… </span>│<span style=\"color: #7f7f7f; text-decoration-color: #7f7f7f\"> 0.2920… </span>│<span style=\"color: #7f7f7f; text-decoration-color: #7f7f7f\"> True   </span>│\n",
              "│ [ 4.26829268 10.          0.          4.          0.        ] │<span style=\"color: #7f7f7f; text-decoration-color: #7f7f7f\"> 1479.975609755012  </span>│<span style=\"color: #7f7f7f; text-decoration-color: #7f7f7f\"> 4243.9… </span>│<span style=\"color: #7f7f7f; text-decoration-color: #7f7f7f\"> 0.2920… </span>│<span style=\"color: #7f7f7f; text-decoration-color: #7f7f7f\"> True   </span>│\n",
              "│ [4.26829268e+00 1.00000000e+01 0.00000000e+00 4.00000000e+00  │<span style=\"color: #7f7f7f; text-decoration-color: #7f7f7f\"> 1479.9756097537477 </span>│<span style=\"color: #7f7f7f; text-decoration-color: #7f7f7f\"> 4243.9… </span>│<span style=\"color: #7f7f7f; text-decoration-color: #7f7f7f\"> 0.2920… </span>│<span style=\"color: #7f7f7f; text-decoration-color: #7f7f7f\"> True   </span>│\n",
              "│  2.29180953e-13]                                              │<span style=\"color: #7f7f7f; text-decoration-color: #7f7f7f\">                    </span>│<span style=\"color: #7f7f7f; text-decoration-color: #7f7f7f\">         </span>│<span style=\"color: #7f7f7f; text-decoration-color: #7f7f7f\">         </span>│<span style=\"color: #7f7f7f; text-decoration-color: #7f7f7f\">        </span>│\n",
              "│ [ 4.26829268 10.          0.          4.          0.        ] │<span style=\"color: #7f7f7f; text-decoration-color: #7f7f7f\"> 1479.975609739761  </span>│<span style=\"color: #7f7f7f; text-decoration-color: #7f7f7f\"> 4243.9… </span>│<span style=\"color: #7f7f7f; text-decoration-color: #7f7f7f\"> 0.2920… </span>│<span style=\"color: #7f7f7f; text-decoration-color: #7f7f7f\"> True   </span>│\n",
              "│ [ 4.26829268 10.          0.          4.          0.        ] │<span style=\"color: #7f7f7f; text-decoration-color: #7f7f7f\"> 1479.9756097256918 </span>│<span style=\"color: #7f7f7f; text-decoration-color: #7f7f7f\"> 4243.9… </span>│<span style=\"color: #7f7f7f; text-decoration-color: #7f7f7f\"> 0.2920… </span>│<span style=\"color: #7f7f7f; text-decoration-color: #7f7f7f\"> True   </span>│\n",
              "│ [ 4.26829268 10.          0.          4.          0.        ] │<span style=\"color: #7f7f7f; text-decoration-color: #7f7f7f\"> 1479.975609704611  </span>│<span style=\"color: #7f7f7f; text-decoration-color: #7f7f7f\"> 4243.9… </span>│<span style=\"color: #7f7f7f; text-decoration-color: #7f7f7f\"> 0.2920… </span>│<span style=\"color: #7f7f7f; text-decoration-color: #7f7f7f\"> True   </span>│\n",
              "│ [ 4.26829268 10.          0.          4.          0.        ] │<span style=\"color: #7f7f7f; text-decoration-color: #7f7f7f\"> 1479.9756095804046 </span>│<span style=\"color: #7f7f7f; text-decoration-color: #7f7f7f\"> 4243.9… </span>│<span style=\"color: #7f7f7f; text-decoration-color: #7f7f7f\"> 0.2920… </span>│<span style=\"color: #7f7f7f; text-decoration-color: #7f7f7f\"> True   </span>│\n",
              "│ [ 4.26829267 10.          0.          4.          0.        ] │<span style=\"color: #7f7f7f; text-decoration-color: #7f7f7f\"> 1479.9756086764567 </span>│<span style=\"color: #7f7f7f; text-decoration-color: #7f7f7f\"> 4243.9… </span>│<span style=\"color: #7f7f7f; text-decoration-color: #7f7f7f\"> 0.2920… </span>│<span style=\"color: #7f7f7f; text-decoration-color: #7f7f7f\"> True   </span>│\n",
              "│ [4.26829267e+00 1.00000000e+01 0.00000000e+00 4.00000000e+00  │<span style=\"color: #7f7f7f; text-decoration-color: #7f7f7f\"> 1479.9756086415746 </span>│<span style=\"color: #7f7f7f; text-decoration-color: #7f7f7f\"> 4243.9… </span>│<span style=\"color: #7f7f7f; text-decoration-color: #7f7f7f\"> 0.2920… </span>│<span style=\"color: #7f7f7f; text-decoration-color: #7f7f7f\"> True   </span>│\n",
              "│  1.87911862e-12]                                              │<span style=\"color: #7f7f7f; text-decoration-color: #7f7f7f\">                    </span>│<span style=\"color: #7f7f7f; text-decoration-color: #7f7f7f\">         </span>│<span style=\"color: #7f7f7f; text-decoration-color: #7f7f7f\">         </span>│<span style=\"color: #7f7f7f; text-decoration-color: #7f7f7f\">        </span>│\n",
              "│ [ 4.26829265 10.          0.          4.          0.        ] │<span style=\"color: #7f7f7f; text-decoration-color: #7f7f7f\"> 1479.9756074274385 </span>│<span style=\"color: #7f7f7f; text-decoration-color: #7f7f7f\"> 4243.9… </span>│<span style=\"color: #7f7f7f; text-decoration-color: #7f7f7f\"> 0.2920… </span>│<span style=\"color: #7f7f7f; text-decoration-color: #7f7f7f\"> True   </span>│\n",
              "│ [ 4.26829262 10.          0.          4.          0.        ] │<span style=\"color: #7f7f7f; text-decoration-color: #7f7f7f\"> 1479.9756057940485 </span>│<span style=\"color: #7f7f7f; text-decoration-color: #7f7f7f\"> 4243.9… </span>│<span style=\"color: #7f7f7f; text-decoration-color: #7f7f7f\"> 0.2920… </span>│<span style=\"color: #7f7f7f; text-decoration-color: #7f7f7f\"> True   </span>│\n",
              "│ [ 4.26829255 10.          0.          4.          0.        ] │<span style=\"color: #7f7f7f; text-decoration-color: #7f7f7f\"> 1479.9756005180443 </span>│<span style=\"color: #7f7f7f; text-decoration-color: #7f7f7f\"> 4243.9… </span>│<span style=\"color: #7f7f7f; text-decoration-color: #7f7f7f\"> 0.2920… </span>│<span style=\"color: #7f7f7f; text-decoration-color: #7f7f7f\"> True   </span>│\n",
              "│ [4.26829183e+00 1.00000000e+01 5.35694927e-11 4.00000000e+00  │<span style=\"color: #7f7f7f; text-decoration-color: #7f7f7f\"> 1479.975552510574  </span>│<span style=\"color: #7f7f7f; text-decoration-color: #7f7f7f\"> 4243.9… </span>│<span style=\"color: #7f7f7f; text-decoration-color: #7f7f7f\"> 0.2920… </span>│<span style=\"color: #7f7f7f; text-decoration-color: #7f7f7f\"> True   </span>│\n",
              "│  0.00000000e+00]                                              │<span style=\"color: #7f7f7f; text-decoration-color: #7f7f7f\">                    </span>│<span style=\"color: #7f7f7f; text-decoration-color: #7f7f7f\">         </span>│<span style=\"color: #7f7f7f; text-decoration-color: #7f7f7f\">         </span>│<span style=\"color: #7f7f7f; text-decoration-color: #7f7f7f\">        </span>│\n",
              "│ [ 4.26829159 10.          0.          4.          0.        ] │<span style=\"color: #7f7f7f; text-decoration-color: #7f7f7f\"> 1479.9755365701533 </span>│<span style=\"color: #7f7f7f; text-decoration-color: #7f7f7f\"> 4243.9… </span>│<span style=\"color: #7f7f7f; text-decoration-color: #7f7f7f\"> 0.2920… </span>│<span style=\"color: #7f7f7f; text-decoration-color: #7f7f7f\"> True   </span>│\n",
              "│ [ 4.26828415 10.          0.          4.          0.        ] │<span style=\"color: #7f7f7f; text-decoration-color: #7f7f7f\"> 1479.9750381427898 </span>│<span style=\"color: #7f7f7f; text-decoration-color: #7f7f7f\"> 4243.9… </span>│<span style=\"color: #7f7f7f; text-decoration-color: #7f7f7f\"> 0.2920… </span>│<span style=\"color: #7f7f7f; text-decoration-color: #7f7f7f\"> True   </span>│\n",
              "│ [ 4.26823665 10.          0.          4.          0.        ] │<span style=\"color: #7f7f7f; text-decoration-color: #7f7f7f\"> 1479.9718553140679 </span>│<span style=\"color: #7f7f7f; text-decoration-color: #7f7f7f\"> 4243.9… </span>│<span style=\"color: #7f7f7f; text-decoration-color: #7f7f7f\"> 0.2920… </span>│<span style=\"color: #7f7f7f; text-decoration-color: #7f7f7f\"> True   </span>│\n",
              "│ [4.26829268e+00 1.00000000e+01 0.00000000e+00 4.00000000e+00  │<span style=\"color: #7f7f7f; text-decoration-color: #7f7f7f\"> 1479.982273306839  </span>│<span style=\"color: #7f7f7f; text-decoration-color: #7f7f7f\"> 4244.0… </span>│<span style=\"color: #7f7f7f; text-decoration-color: #7f7f7f\"> 0.2920… </span>│<span style=\"color: #7f7f7f; text-decoration-color: #7f7f7f\"> True   </span>│\n",
              "│  2.89719599e-04]                                              │<span style=\"color: #7f7f7f; text-decoration-color: #7f7f7f\">                    </span>│<span style=\"color: #7f7f7f; text-decoration-color: #7f7f7f\">         </span>│<span style=\"color: #7f7f7f; text-decoration-color: #7f7f7f\">         </span>│<span style=\"color: #7f7f7f; text-decoration-color: #7f7f7f\">        </span>│\n",
              "│ [ 4.26817043 10.          0.          4.          0.        ] │<span style=\"color: #7f7f7f; text-decoration-color: #7f7f7f\"> 1479.967418680113  </span>│<span style=\"color: #7f7f7f; text-decoration-color: #7f7f7f\"> 4243.9… </span>│<span style=\"color: #7f7f7f; text-decoration-color: #7f7f7f\"> 0.2920… </span>│<span style=\"color: #7f7f7f; text-decoration-color: #7f7f7f\"> True   </span>│\n",
              "│ [ 4.26793704 10.          0.          4.          0.        ] │<span style=\"color: #7f7f7f; text-decoration-color: #7f7f7f\"> 1479.951781715626  </span>│<span style=\"color: #7f7f7f; text-decoration-color: #7f7f7f\"> 4243.9… </span>│<span style=\"color: #7f7f7f; text-decoration-color: #7f7f7f\"> 0.2920… </span>│<span style=\"color: #7f7f7f; text-decoration-color: #7f7f7f\"> True   </span>│\n",
              "│ [4.26645196e+00 1.00000000e+01 3.72767516e-03 3.99958174e+00  │<span style=\"color: #7f7f7f; text-decoration-color: #7f7f7f\"> 1479.9828745921043 </span>│<span style=\"color: #7f7f7f; text-decoration-color: #7f7f7f\"> 4243.8… </span>│<span style=\"color: #7f7f7f; text-decoration-color: #7f7f7f\"> 0.2921… </span>│<span style=\"color: #7f7f7f; text-decoration-color: #7f7f7f\"> True   </span>│\n",
              "│  0.00000000e+00]                                              │<span style=\"color: #7f7f7f; text-decoration-color: #7f7f7f\">                    </span>│<span style=\"color: #7f7f7f; text-decoration-color: #7f7f7f\">         </span>│<span style=\"color: #7f7f7f; text-decoration-color: #7f7f7f\">         </span>│<span style=\"color: #7f7f7f; text-decoration-color: #7f7f7f\">        </span>│\n",
              "│ [ 4.26400874 10.          0.          4.          0.        ] │<span style=\"color: #7f7f7f; text-decoration-color: #7f7f7f\"> 1479.688585487611  </span>│<span style=\"color: #7f7f7f; text-decoration-color: #7f7f7f\"> 4243.2… </span>│<span style=\"color: #7f7f7f; text-decoration-color: #7f7f7f\"> 0.2921… </span>│<span style=\"color: #7f7f7f; text-decoration-color: #7f7f7f\"> True   </span>│\n",
              "│ [4.26829216e+00 9.99831510e+00 4.41716029e-05 3.99998523e+00  │<span style=\"color: #7f7f7f; text-decoration-color: #7f7f7f\"> 1479.8230990158304 </span>│<span style=\"color: #7f7f7f; text-decoration-color: #7f7f7f\"> 4243.4… </span>│<span style=\"color: #7f7f7f; text-decoration-color: #7f7f7f\"> 0.2921… </span>│<span style=\"color: #7f7f7f; text-decoration-color: #7f7f7f\"> True   </span>│\n",
              "│  0.00000000e+00]                                              │<span style=\"color: #7f7f7f; text-decoration-color: #7f7f7f\">                    </span>│<span style=\"color: #7f7f7f; text-decoration-color: #7f7f7f\">         </span>│<span style=\"color: #7f7f7f; text-decoration-color: #7f7f7f\">         </span>│<span style=\"color: #7f7f7f; text-decoration-color: #7f7f7f\">        </span>│\n",
              "│ [ 4.26287508 10.          0.          4.          0.        ] │<span style=\"color: #7f7f7f; text-decoration-color: #7f7f7f\"> 1479.6126300613555 </span>│<span style=\"color: #7f7f7f; text-decoration-color: #7f7f7f\"> 4243.1… </span>│<span style=\"color: #7f7f7f; text-decoration-color: #7f7f7f\"> 0.2921… </span>│<span style=\"color: #7f7f7f; text-decoration-color: #7f7f7f\"> True   </span>│\n",
              "│ [ 4.26161561 10.          0.          4.          0.        ] │<span style=\"color: #7f7f7f; text-decoration-color: #7f7f7f\"> 1479.5282456988034 </span>│<span style=\"color: #7f7f7f; text-decoration-color: #7f7f7f\"> 4242.9… </span>│<span style=\"color: #7f7f7f; text-decoration-color: #7f7f7f\"> 0.2921… </span>│<span style=\"color: #7f7f7f; text-decoration-color: #7f7f7f\"> True   </span>│\n",
              "│ [4.26041387e+00 1.00000000e+01 5.92554057e-17 4.00000000e+00  │<span style=\"color: #7f7f7f; text-decoration-color: #7f7f7f\"> 1479.4477294718465 </span>│<span style=\"color: #7f7f7f; text-decoration-color: #7f7f7f\"> 4242.7… </span>│<span style=\"color: #7f7f7f; text-decoration-color: #7f7f7f\"> 0.2921… </span>│<span style=\"color: #7f7f7f; text-decoration-color: #7f7f7f\"> True   </span>│\n",
              "│  3.63389077e-12]                                              │<span style=\"color: #7f7f7f; text-decoration-color: #7f7f7f\">                    </span>│<span style=\"color: #7f7f7f; text-decoration-color: #7f7f7f\">         </span>│<span style=\"color: #7f7f7f; text-decoration-color: #7f7f7f\">         </span>│<span style=\"color: #7f7f7f; text-decoration-color: #7f7f7f\">        </span>│\n",
              "│ [4.26848118e+00 9.99515597e+00 5.78372449e-07 4.00000000e+00  │<span style=\"color: #7f7f7f; text-decoration-color: #7f7f7f\"> 1479.5474576172464 </span>│<span style=\"color: #7f7f7f; text-decoration-color: #7f7f7f\"> 4242.5… </span>│<span style=\"color: #7f7f7f; text-decoration-color: #7f7f7f\"> 0.2921… </span>│<span style=\"color: #7f7f7f; text-decoration-color: #7f7f7f\"> True   </span>│\n",
              "│  0.00000000e+00]                                              │<span style=\"color: #7f7f7f; text-decoration-color: #7f7f7f\">                    </span>│<span style=\"color: #7f7f7f; text-decoration-color: #7f7f7f\">         </span>│<span style=\"color: #7f7f7f; text-decoration-color: #7f7f7f\">         </span>│<span style=\"color: #7f7f7f; text-decoration-color: #7f7f7f\">        </span>│\n",
              "│ [ 4.24929878 10.          0.          4.          0.        ] │<span style=\"color: #7f7f7f; text-decoration-color: #7f7f7f\"> 1478.7030180379882 </span>│<span style=\"color: #7f7f7f; text-decoration-color: #7f7f7f\"> 4240.8… </span>│<span style=\"color: #7f7f7f; text-decoration-color: #7f7f7f\"> 0.2922… </span>│<span style=\"color: #7f7f7f; text-decoration-color: #7f7f7f\"> True   </span>│\n",
              "│ [4.24210770e+00 1.00000000e+01 4.16401038e-03 3.99213689e+00  │<span style=\"color: #7f7f7f; text-decoration-color: #7f7f7f\"> 1478.0088791539604 </span>│<span style=\"color: #7f7f7f; text-decoration-color: #7f7f7f\"> 4239.1… </span>│<span style=\"color: #7f7f7f; text-decoration-color: #7f7f7f\"> 0.2922… </span>│<span style=\"color: #7f7f7f; text-decoration-color: #7f7f7f\"> True   </span>│\n",
              "│  7.25615430e-03]                                              │<span style=\"color: #7f7f7f; text-decoration-color: #7f7f7f\">                    </span>│<span style=\"color: #7f7f7f; text-decoration-color: #7f7f7f\">         </span>│<span style=\"color: #7f7f7f; text-decoration-color: #7f7f7f\">         </span>│<span style=\"color: #7f7f7f; text-decoration-color: #7f7f7f\">        </span>│\n",
              "│ [4.26634259e+00 9.95623341e+00 3.11793869e-05 4.00000000e+00  │<span style=\"color: #7f7f7f; text-decoration-color: #7f7f7f\"> 1475.8635346927551 </span>│<span style=\"color: #7f7f7f; text-decoration-color: #7f7f7f\"> 4230.1… </span>│<span style=\"color: #7f7f7f; text-decoration-color: #7f7f7f\"> 0.2928… </span>│<span style=\"color: #7f7f7f; text-decoration-color: #7f7f7f\"> True   </span>│\n",
              "│  0.00000000e+00]                                              │<span style=\"color: #7f7f7f; text-decoration-color: #7f7f7f\">                    </span>│<span style=\"color: #7f7f7f; text-decoration-color: #7f7f7f\">         </span>│<span style=\"color: #7f7f7f; text-decoration-color: #7f7f7f\">         </span>│<span style=\"color: #7f7f7f; text-decoration-color: #7f7f7f\">        </span>│\n",
              "│ [4.26829268 9.858232   0.         4.         0.        ]      │<span style=\"color: #7f7f7f; text-decoration-color: #7f7f7f\"> 1467.0747216946886 </span>│<span style=\"color: #7f7f7f; text-decoration-color: #7f7f7f\"> 4200.0… </span>│<span style=\"color: #7f7f7f; text-decoration-color: #7f7f7f\"> 0.2946… </span>│<span style=\"color: #7f7f7f; text-decoration-color: #7f7f7f\"> True   </span>│\n",
              "│ [4.26829268e+00 9.99994213e+00 0.00000000e+00 0.00000000e+00  │<span style=\"color: #7f7f7f; text-decoration-color: #7f7f7f\"> 1195.9703430158268 </span>│<span style=\"color: #7f7f7f; text-decoration-color: #7f7f7f\"> 3799.9… </span>│<span style=\"color: #7f7f7f; text-decoration-color: #7f7f7f\"> 0.2949… </span>│<span style=\"color: #7f7f7f; text-decoration-color: #7f7f7f\"> True   </span>│\n",
              "│  4.98436937e-10]                                              │<span style=\"color: #7f7f7f; text-decoration-color: #7f7f7f\">                    </span>│<span style=\"color: #7f7f7f; text-decoration-color: #7f7f7f\">         </span>│<span style=\"color: #7f7f7f; text-decoration-color: #7f7f7f\">         </span>│<span style=\"color: #7f7f7f; text-decoration-color: #7f7f7f\">        </span>│\n",
              "│ [4.26510309 9.81313085 0.         4.         0.        ]      │<span style=\"color: #7f7f7f; text-decoration-color: #7f7f7f\"> 1462.7568147389036 </span>│<span style=\"color: #7f7f7f; text-decoration-color: #7f7f7f\"> 4185.5… </span>│<span style=\"color: #7f7f7f; text-decoration-color: #7f7f7f\"> 0.2954… </span>│<span style=\"color: #7f7f7f; text-decoration-color: #7f7f7f\"> True   </span>│\n",
              "│ [4.26829268 9.80766603 0.         3.99999999 0.        ]      │<span style=\"color: #7f7f7f; text-decoration-color: #7f7f7f\"> 1462.4732177840574 </span>│<span style=\"color: #7f7f7f; text-decoration-color: #7f7f7f\"> 4184.3… </span>│<span style=\"color: #7f7f7f; text-decoration-color: #7f7f7f\"> 0.2954… </span>│<span style=\"color: #7f7f7f; text-decoration-color: #7f7f7f\"> True   </span>│\n",
              "│ [4.26479364e+00 9.82185382e+00 0.00000000e+00 3.68795213e+00  │<span style=\"color: #7f7f7f; text-decoration-color: #7f7f7f\"> 1441.5136394513008 </span>│<span style=\"color: #7f7f7f; text-decoration-color: #7f7f7f\"> 4153.6… </span>│<span style=\"color: #7f7f7f; text-decoration-color: #7f7f7f\"> 0.2955… </span>│<span style=\"color: #7f7f7f; text-decoration-color: #7f7f7f\"> True   </span>│\n",
              "│  6.05074235e-03]                                              │<span style=\"color: #7f7f7f; text-decoration-color: #7f7f7f\">                    </span>│<span style=\"color: #7f7f7f; text-decoration-color: #7f7f7f\">         </span>│<span style=\"color: #7f7f7f; text-decoration-color: #7f7f7f\">         </span>│<span style=\"color: #7f7f7f; text-decoration-color: #7f7f7f\">        </span>│\n",
              "│ [ 3.97506845 10.          0.          1.39750458  0.0368002 ] │<span style=\"color: #7f7f7f; text-decoration-color: #7f7f7f\"> 1276.3988159191067 </span>│<span style=\"color: #7f7f7f; text-decoration-color: #7f7f7f\"> 3907.4… </span>│<span style=\"color: #7f7f7f; text-decoration-color: #7f7f7f\"> 0.2959… </span>│<span style=\"color: #7f7f7f; text-decoration-color: #7f7f7f\"> True   </span>│\n",
              "│ [ 4.09974753 10.          0.          0.12897651  0.        ] │<span style=\"color: #7f7f7f; text-decoration-color: #7f7f7f\"> 1193.8404167881654 </span>│<span style=\"color: #7f7f7f; text-decoration-color: #7f7f7f\"> 3786.6… </span>│<span style=\"color: #7f7f7f; text-decoration-color: #7f7f7f\"> 0.2959… </span>│<span style=\"color: #7f7f7f; text-decoration-color: #7f7f7f\"> True   </span>│\n",
              "│ [4.01291713 9.87684374 0.10236508 3.99630453 0.        ]      │<span style=\"color: #7f7f7f; text-decoration-color: #7f7f7f\"> 1455.7975480399118 </span>│<span style=\"color: #7f7f7f; text-decoration-color: #7f7f7f\"> 4168.2… </span>│<span style=\"color: #7f7f7f; text-decoration-color: #7f7f7f\"> 0.2961… </span>│<span style=\"color: #7f7f7f; text-decoration-color: #7f7f7f\"> True   </span>│\n",
              "│ [ 3.15124466 10.          0.          4.          0.        ] │<span style=\"color: #7f7f7f; text-decoration-color: #7f7f7f\"> 1405.1333921483122 </span>│<span style=\"color: #7f7f7f; text-decoration-color: #7f7f7f\"> 4060.8… </span>│<span style=\"color: #7f7f7f; text-decoration-color: #7f7f7f\"> 0.2994… </span>│<span style=\"color: #7f7f7f; text-decoration-color: #7f7f7f\"> True   </span>│\n",
              "│ [4.19240003e+00 9.09558188e+00 2.97459702e-03 3.32119170e+00  │<span style=\"color: #7f7f7f; text-decoration-color: #7f7f7f\"> 1344.5212712594212 </span>│<span style=\"color: #7f7f7f; text-decoration-color: #7f7f7f\"> 3875.9… </span>│<span style=\"color: #7f7f7f; text-decoration-color: #7f7f7f\"> 0.3090… </span>│<span style=\"color: #7f7f7f; text-decoration-color: #7f7f7f\"> True   </span>│\n",
              "│  0.00000000e+00]                                              │<span style=\"color: #7f7f7f; text-decoration-color: #7f7f7f\">                    </span>│<span style=\"color: #7f7f7f; text-decoration-color: #7f7f7f\">         </span>│<span style=\"color: #7f7f7f; text-decoration-color: #7f7f7f\">         </span>│<span style=\"color: #7f7f7f; text-decoration-color: #7f7f7f\">        </span>│\n",
              "│ [3.42066226e+00 9.16943441e+00 8.75732201e-03 2.88040193e+00  │<span style=\"color: #7f7f7f; text-decoration-color: #7f7f7f\"> 1268.524313806821  </span>│<span style=\"color: #7f7f7f; text-decoration-color: #7f7f7f\"> 3723.6… </span>│<span style=\"color: #7f7f7f; text-decoration-color: #7f7f7f\"> 0.3131… </span>│<span style=\"color: #7f7f7f; text-decoration-color: #7f7f7f\"> True   </span>│\n",
              "│  1.57867768e-03]                                              │<span style=\"color: #7f7f7f; text-decoration-color: #7f7f7f\">                    </span>│<span style=\"color: #7f7f7f; text-decoration-color: #7f7f7f\">         </span>│<span style=\"color: #7f7f7f; text-decoration-color: #7f7f7f\">         </span>│<span style=\"color: #7f7f7f; text-decoration-color: #7f7f7f\">        </span>│\n",
              "│ [4.26658934e+00 8.57251018e+00 5.09168819e-05 3.94315564e+00  │<span style=\"color: #7f7f7f; text-decoration-color: #7f7f7f\"> 1345.9276262009018 </span>│<span style=\"color: #7f7f7f; text-decoration-color: #7f7f7f\"> 3794.8… </span>│<span style=\"color: #7f7f7f; text-decoration-color: #7f7f7f\"> 0.3173… </span>│<span style=\"color: #7f7f7f; text-decoration-color: #7f7f7f\"> True   </span>│\n",
              "│  6.40608947e-05]                                              │<span style=\"color: #7f7f7f; text-decoration-color: #7f7f7f\">                    </span>│<span style=\"color: #7f7f7f; text-decoration-color: #7f7f7f\">         </span>│<span style=\"color: #7f7f7f; text-decoration-color: #7f7f7f\">         </span>│<span style=\"color: #7f7f7f; text-decoration-color: #7f7f7f\">        </span>│\n",
              "│ [ 0. 10.  0.  4.  0.]                                         │<span style=\"color: #7f7f7f; text-decoration-color: #7f7f7f\"> 1194.0             </span>│<span style=\"color: #7f7f7f; text-decoration-color: #7f7f7f\"> 3544.0  </span>│<span style=\"color: #7f7f7f; text-decoration-color: #7f7f7f\"> 0.3202… </span>│<span style=\"color: #7f7f7f; text-decoration-color: #7f7f7f\"> True   </span>│\n",
              "│ [4.26829268 5.63675376 0.         4.         0.        ]      │<span style=\"color: #7f7f7f; text-decoration-color: #7f7f7f\"> 1082.9202020370763 </span>│<span style=\"color: #7f7f7f; text-decoration-color: #7f7f7f\"> 2891.3… </span>│<span style=\"color: #7f7f7f; text-decoration-color: #7f7f7f\"> 0.3692… </span>│<span style=\"color: #7f7f7f; text-decoration-color: #7f7f7f\"> True   </span>│\n",
              "│ [4.26829268 1.43993504 0.         4.         0.        ]      │<span style=\"color: #7f7f7f; text-decoration-color: #7f7f7f\"> 701.0096987403181  </span>│<span style=\"color: #7f7f7f; text-decoration-color: #7f7f7f\"> 1590.3… </span>│<span style=\"color: #7f7f7f; text-decoration-color: #7f7f7f\"> 0.4435… </span>│<span style=\"color: #7f7f7f; text-decoration-color: #7f7f7f\"> True   </span>│\n",
              "│ [0.07668047 0.13741309 0.17955296 0.05416385 0.21243711]      │<span style=\"color: #7f7f7f; text-decoration-color: #7f7f7f\"> 34.094646850084615 </span>│<span style=\"color: #7f7f7f; text-decoration-color: #7f7f7f\"> 71.994… </span>│<span style=\"color: #7f7f7f; text-decoration-color: #7f7f7f\"> 0.4977… </span>│<span style=\"color: #7f7f7f; text-decoration-color: #7f7f7f\"> True   </span>│\n",
              "│ [0.07084431 0.01478716 0.51440263 0.0050926  0.42414769]      │<span style=\"color: #7f7f7f; text-decoration-color: #7f7f7f\"> 38.32848457739004  </span>│<span style=\"color: #7f7f7f; text-decoration-color: #7f7f7f\"> 45.520… </span>│<span style=\"color: #7f7f7f; text-decoration-color: #7f7f7f\"> 0.5010… </span>│<span style=\"color: #7f7f7f; text-decoration-color: #7f7f7f\"> True   </span>│\n",
              "│ [0.04163397 0.00691659 0.73874045 0.01596361 0.87384547]      │<span style=\"color: #7f7f7f; text-decoration-color: #7f7f7f\"> 56.416587117492554 </span>│<span style=\"color: #7f7f7f; text-decoration-color: #7f7f7f\"> 55.212… </span>│<span style=\"color: #7f7f7f; text-decoration-color: #7f7f7f\"> 0.5027… </span>│<span style=\"color: #7f7f7f; text-decoration-color: #7f7f7f\"> True   </span>│\n",
              "└───────────────────────────────────────────────────────────────┴────────────────────┴─────────┴─────────┴────────┘\n",
              "</pre>\n"
            ],
            "text/plain": [
              "\u001b[3m                                                SSA FS resultantes                                                 \u001b[0m\n",
              "┏━━━━━━━━━━━━━━━━━━━━━━━━━━━━━━━━━━━━━━━━━━━━━━━━━━━━━━━━━━━━━━━┳━━━━━━━━━━━━━━━━━━━━┳━━━━━━━━━┳━━━━━━━━━┳━━━━━━━━┓\n",
              "┃\u001b[1;35m \u001b[0m\u001b[1;35mFS\u001b[0m\u001b[1;35m                                                           \u001b[0m\u001b[1;35m \u001b[0m┃\u001b[1;35m \u001b[0m\u001b[1;35mMaximizacion\u001b[0m\u001b[1;35m      \u001b[0m\u001b[1;35m \u001b[0m┃\u001b[1;35m \u001b[0m\u001b[1;35mMinimi…\u001b[0m\u001b[1;35m \u001b[0m┃\u001b[1;35m \u001b[0m\u001b[1;35mScalar…\u001b[0m\u001b[1;35m \u001b[0m┃\u001b[1;35m \u001b[0m\u001b[1;35mRestr…\u001b[0m\u001b[1;35m \u001b[0m┃\n",
              "┡━━━━━━━━━━━━━━━━━━━━━━━━━━━━━━━━━━━━━━━━━━━━━━━━━━━━━━━━━━━━━━━╇━━━━━━━━━━━━━━━━━━━━╇━━━━━━━━━╇━━━━━━━━━╇━━━━━━━━┩\n",
              "│ [ 4.26829268 10.          0.          4.          0.        ] │\u001b[2m \u001b[0m\u001b[2m1479.9756097560974\u001b[0m\u001b[2m \u001b[0m│\u001b[2m \u001b[0m\u001b[2m4244.0\u001b[0m\u001b[2m \u001b[0m\u001b[2m \u001b[0m│\u001b[2m \u001b[0m\u001b[2m0.2920…\u001b[0m\u001b[2m \u001b[0m│\u001b[2m \u001b[0m\u001b[2mTrue\u001b[0m\u001b[2m  \u001b[0m\u001b[2m \u001b[0m│\n",
              "│ [ 4.26829268 10.          0.          4.          0.        ] │\u001b[2m \u001b[0m\u001b[2m1479.9756097560976\u001b[0m\u001b[2m \u001b[0m│\u001b[2m \u001b[0m\u001b[2m4244.0\u001b[0m\u001b[2m \u001b[0m\u001b[2m \u001b[0m│\u001b[2m \u001b[0m\u001b[2m0.2920…\u001b[0m\u001b[2m \u001b[0m│\u001b[2m \u001b[0m\u001b[2mTrue\u001b[0m\u001b[2m  \u001b[0m\u001b[2m \u001b[0m│\n",
              "│ [ 4.26829268 10.          0.          4.          0.        ] │\u001b[2m \u001b[0m\u001b[2m1479.9756097560914\u001b[0m\u001b[2m \u001b[0m│\u001b[2m \u001b[0m\u001b[2m4243.9…\u001b[0m\u001b[2m \u001b[0m│\u001b[2m \u001b[0m\u001b[2m0.2920…\u001b[0m\u001b[2m \u001b[0m│\u001b[2m \u001b[0m\u001b[2mTrue\u001b[0m\u001b[2m  \u001b[0m\u001b[2m \u001b[0m│\n",
              "│ [ 4.26829268 10.          0.          4.          0.        ] │\u001b[2m \u001b[0m\u001b[2m1479.975609755548\u001b[0m\u001b[2m \u001b[0m\u001b[2m \u001b[0m│\u001b[2m \u001b[0m\u001b[2m4243.9…\u001b[0m\u001b[2m \u001b[0m│\u001b[2m \u001b[0m\u001b[2m0.2920…\u001b[0m\u001b[2m \u001b[0m│\u001b[2m \u001b[0m\u001b[2mTrue\u001b[0m\u001b[2m  \u001b[0m\u001b[2m \u001b[0m│\n",
              "│ [ 4.26829268 10.          0.          4.          0.        ] │\u001b[2m \u001b[0m\u001b[2m1479.975609755012\u001b[0m\u001b[2m \u001b[0m\u001b[2m \u001b[0m│\u001b[2m \u001b[0m\u001b[2m4243.9…\u001b[0m\u001b[2m \u001b[0m│\u001b[2m \u001b[0m\u001b[2m0.2920…\u001b[0m\u001b[2m \u001b[0m│\u001b[2m \u001b[0m\u001b[2mTrue\u001b[0m\u001b[2m  \u001b[0m\u001b[2m \u001b[0m│\n",
              "│ [4.26829268e+00 1.00000000e+01 0.00000000e+00 4.00000000e+00  │\u001b[2m \u001b[0m\u001b[2m1479.9756097537477\u001b[0m\u001b[2m \u001b[0m│\u001b[2m \u001b[0m\u001b[2m4243.9…\u001b[0m\u001b[2m \u001b[0m│\u001b[2m \u001b[0m\u001b[2m0.2920…\u001b[0m\u001b[2m \u001b[0m│\u001b[2m \u001b[0m\u001b[2mTrue\u001b[0m\u001b[2m  \u001b[0m\u001b[2m \u001b[0m│\n",
              "│  2.29180953e-13]                                              │\u001b[2m                    \u001b[0m│\u001b[2m         \u001b[0m│\u001b[2m         \u001b[0m│\u001b[2m        \u001b[0m│\n",
              "│ [ 4.26829268 10.          0.          4.          0.        ] │\u001b[2m \u001b[0m\u001b[2m1479.975609739761\u001b[0m\u001b[2m \u001b[0m\u001b[2m \u001b[0m│\u001b[2m \u001b[0m\u001b[2m4243.9…\u001b[0m\u001b[2m \u001b[0m│\u001b[2m \u001b[0m\u001b[2m0.2920…\u001b[0m\u001b[2m \u001b[0m│\u001b[2m \u001b[0m\u001b[2mTrue\u001b[0m\u001b[2m  \u001b[0m\u001b[2m \u001b[0m│\n",
              "│ [ 4.26829268 10.          0.          4.          0.        ] │\u001b[2m \u001b[0m\u001b[2m1479.9756097256918\u001b[0m\u001b[2m \u001b[0m│\u001b[2m \u001b[0m\u001b[2m4243.9…\u001b[0m\u001b[2m \u001b[0m│\u001b[2m \u001b[0m\u001b[2m0.2920…\u001b[0m\u001b[2m \u001b[0m│\u001b[2m \u001b[0m\u001b[2mTrue\u001b[0m\u001b[2m  \u001b[0m\u001b[2m \u001b[0m│\n",
              "│ [ 4.26829268 10.          0.          4.          0.        ] │\u001b[2m \u001b[0m\u001b[2m1479.975609704611\u001b[0m\u001b[2m \u001b[0m\u001b[2m \u001b[0m│\u001b[2m \u001b[0m\u001b[2m4243.9…\u001b[0m\u001b[2m \u001b[0m│\u001b[2m \u001b[0m\u001b[2m0.2920…\u001b[0m\u001b[2m \u001b[0m│\u001b[2m \u001b[0m\u001b[2mTrue\u001b[0m\u001b[2m  \u001b[0m\u001b[2m \u001b[0m│\n",
              "│ [ 4.26829268 10.          0.          4.          0.        ] │\u001b[2m \u001b[0m\u001b[2m1479.9756095804046\u001b[0m\u001b[2m \u001b[0m│\u001b[2m \u001b[0m\u001b[2m4243.9…\u001b[0m\u001b[2m \u001b[0m│\u001b[2m \u001b[0m\u001b[2m0.2920…\u001b[0m\u001b[2m \u001b[0m│\u001b[2m \u001b[0m\u001b[2mTrue\u001b[0m\u001b[2m  \u001b[0m\u001b[2m \u001b[0m│\n",
              "│ [ 4.26829267 10.          0.          4.          0.        ] │\u001b[2m \u001b[0m\u001b[2m1479.9756086764567\u001b[0m\u001b[2m \u001b[0m│\u001b[2m \u001b[0m\u001b[2m4243.9…\u001b[0m\u001b[2m \u001b[0m│\u001b[2m \u001b[0m\u001b[2m0.2920…\u001b[0m\u001b[2m \u001b[0m│\u001b[2m \u001b[0m\u001b[2mTrue\u001b[0m\u001b[2m  \u001b[0m\u001b[2m \u001b[0m│\n",
              "│ [4.26829267e+00 1.00000000e+01 0.00000000e+00 4.00000000e+00  │\u001b[2m \u001b[0m\u001b[2m1479.9756086415746\u001b[0m\u001b[2m \u001b[0m│\u001b[2m \u001b[0m\u001b[2m4243.9…\u001b[0m\u001b[2m \u001b[0m│\u001b[2m \u001b[0m\u001b[2m0.2920…\u001b[0m\u001b[2m \u001b[0m│\u001b[2m \u001b[0m\u001b[2mTrue\u001b[0m\u001b[2m  \u001b[0m\u001b[2m \u001b[0m│\n",
              "│  1.87911862e-12]                                              │\u001b[2m                    \u001b[0m│\u001b[2m         \u001b[0m│\u001b[2m         \u001b[0m│\u001b[2m        \u001b[0m│\n",
              "│ [ 4.26829265 10.          0.          4.          0.        ] │\u001b[2m \u001b[0m\u001b[2m1479.9756074274385\u001b[0m\u001b[2m \u001b[0m│\u001b[2m \u001b[0m\u001b[2m4243.9…\u001b[0m\u001b[2m \u001b[0m│\u001b[2m \u001b[0m\u001b[2m0.2920…\u001b[0m\u001b[2m \u001b[0m│\u001b[2m \u001b[0m\u001b[2mTrue\u001b[0m\u001b[2m  \u001b[0m\u001b[2m \u001b[0m│\n",
              "│ [ 4.26829262 10.          0.          4.          0.        ] │\u001b[2m \u001b[0m\u001b[2m1479.9756057940485\u001b[0m\u001b[2m \u001b[0m│\u001b[2m \u001b[0m\u001b[2m4243.9…\u001b[0m\u001b[2m \u001b[0m│\u001b[2m \u001b[0m\u001b[2m0.2920…\u001b[0m\u001b[2m \u001b[0m│\u001b[2m \u001b[0m\u001b[2mTrue\u001b[0m\u001b[2m  \u001b[0m\u001b[2m \u001b[0m│\n",
              "│ [ 4.26829255 10.          0.          4.          0.        ] │\u001b[2m \u001b[0m\u001b[2m1479.9756005180443\u001b[0m\u001b[2m \u001b[0m│\u001b[2m \u001b[0m\u001b[2m4243.9…\u001b[0m\u001b[2m \u001b[0m│\u001b[2m \u001b[0m\u001b[2m0.2920…\u001b[0m\u001b[2m \u001b[0m│\u001b[2m \u001b[0m\u001b[2mTrue\u001b[0m\u001b[2m  \u001b[0m\u001b[2m \u001b[0m│\n",
              "│ [4.26829183e+00 1.00000000e+01 5.35694927e-11 4.00000000e+00  │\u001b[2m \u001b[0m\u001b[2m1479.975552510574\u001b[0m\u001b[2m \u001b[0m\u001b[2m \u001b[0m│\u001b[2m \u001b[0m\u001b[2m4243.9…\u001b[0m\u001b[2m \u001b[0m│\u001b[2m \u001b[0m\u001b[2m0.2920…\u001b[0m\u001b[2m \u001b[0m│\u001b[2m \u001b[0m\u001b[2mTrue\u001b[0m\u001b[2m  \u001b[0m\u001b[2m \u001b[0m│\n",
              "│  0.00000000e+00]                                              │\u001b[2m                    \u001b[0m│\u001b[2m         \u001b[0m│\u001b[2m         \u001b[0m│\u001b[2m        \u001b[0m│\n",
              "│ [ 4.26829159 10.          0.          4.          0.        ] │\u001b[2m \u001b[0m\u001b[2m1479.9755365701533\u001b[0m\u001b[2m \u001b[0m│\u001b[2m \u001b[0m\u001b[2m4243.9…\u001b[0m\u001b[2m \u001b[0m│\u001b[2m \u001b[0m\u001b[2m0.2920…\u001b[0m\u001b[2m \u001b[0m│\u001b[2m \u001b[0m\u001b[2mTrue\u001b[0m\u001b[2m  \u001b[0m\u001b[2m \u001b[0m│\n",
              "│ [ 4.26828415 10.          0.          4.          0.        ] │\u001b[2m \u001b[0m\u001b[2m1479.9750381427898\u001b[0m\u001b[2m \u001b[0m│\u001b[2m \u001b[0m\u001b[2m4243.9…\u001b[0m\u001b[2m \u001b[0m│\u001b[2m \u001b[0m\u001b[2m0.2920…\u001b[0m\u001b[2m \u001b[0m│\u001b[2m \u001b[0m\u001b[2mTrue\u001b[0m\u001b[2m  \u001b[0m\u001b[2m \u001b[0m│\n",
              "│ [ 4.26823665 10.          0.          4.          0.        ] │\u001b[2m \u001b[0m\u001b[2m1479.9718553140679\u001b[0m\u001b[2m \u001b[0m│\u001b[2m \u001b[0m\u001b[2m4243.9…\u001b[0m\u001b[2m \u001b[0m│\u001b[2m \u001b[0m\u001b[2m0.2920…\u001b[0m\u001b[2m \u001b[0m│\u001b[2m \u001b[0m\u001b[2mTrue\u001b[0m\u001b[2m  \u001b[0m\u001b[2m \u001b[0m│\n",
              "│ [4.26829268e+00 1.00000000e+01 0.00000000e+00 4.00000000e+00  │\u001b[2m \u001b[0m\u001b[2m1479.982273306839\u001b[0m\u001b[2m \u001b[0m\u001b[2m \u001b[0m│\u001b[2m \u001b[0m\u001b[2m4244.0…\u001b[0m\u001b[2m \u001b[0m│\u001b[2m \u001b[0m\u001b[2m0.2920…\u001b[0m\u001b[2m \u001b[0m│\u001b[2m \u001b[0m\u001b[2mTrue\u001b[0m\u001b[2m  \u001b[0m\u001b[2m \u001b[0m│\n",
              "│  2.89719599e-04]                                              │\u001b[2m                    \u001b[0m│\u001b[2m         \u001b[0m│\u001b[2m         \u001b[0m│\u001b[2m        \u001b[0m│\n",
              "│ [ 4.26817043 10.          0.          4.          0.        ] │\u001b[2m \u001b[0m\u001b[2m1479.967418680113\u001b[0m\u001b[2m \u001b[0m\u001b[2m \u001b[0m│\u001b[2m \u001b[0m\u001b[2m4243.9…\u001b[0m\u001b[2m \u001b[0m│\u001b[2m \u001b[0m\u001b[2m0.2920…\u001b[0m\u001b[2m \u001b[0m│\u001b[2m \u001b[0m\u001b[2mTrue\u001b[0m\u001b[2m  \u001b[0m\u001b[2m \u001b[0m│\n",
              "│ [ 4.26793704 10.          0.          4.          0.        ] │\u001b[2m \u001b[0m\u001b[2m1479.951781715626\u001b[0m\u001b[2m \u001b[0m\u001b[2m \u001b[0m│\u001b[2m \u001b[0m\u001b[2m4243.9…\u001b[0m\u001b[2m \u001b[0m│\u001b[2m \u001b[0m\u001b[2m0.2920…\u001b[0m\u001b[2m \u001b[0m│\u001b[2m \u001b[0m\u001b[2mTrue\u001b[0m\u001b[2m  \u001b[0m\u001b[2m \u001b[0m│\n",
              "│ [4.26645196e+00 1.00000000e+01 3.72767516e-03 3.99958174e+00  │\u001b[2m \u001b[0m\u001b[2m1479.9828745921043\u001b[0m\u001b[2m \u001b[0m│\u001b[2m \u001b[0m\u001b[2m4243.8…\u001b[0m\u001b[2m \u001b[0m│\u001b[2m \u001b[0m\u001b[2m0.2921…\u001b[0m\u001b[2m \u001b[0m│\u001b[2m \u001b[0m\u001b[2mTrue\u001b[0m\u001b[2m  \u001b[0m\u001b[2m \u001b[0m│\n",
              "│  0.00000000e+00]                                              │\u001b[2m                    \u001b[0m│\u001b[2m         \u001b[0m│\u001b[2m         \u001b[0m│\u001b[2m        \u001b[0m│\n",
              "│ [ 4.26400874 10.          0.          4.          0.        ] │\u001b[2m \u001b[0m\u001b[2m1479.688585487611\u001b[0m\u001b[2m \u001b[0m\u001b[2m \u001b[0m│\u001b[2m \u001b[0m\u001b[2m4243.2…\u001b[0m\u001b[2m \u001b[0m│\u001b[2m \u001b[0m\u001b[2m0.2921…\u001b[0m\u001b[2m \u001b[0m│\u001b[2m \u001b[0m\u001b[2mTrue\u001b[0m\u001b[2m  \u001b[0m\u001b[2m \u001b[0m│\n",
              "│ [4.26829216e+00 9.99831510e+00 4.41716029e-05 3.99998523e+00  │\u001b[2m \u001b[0m\u001b[2m1479.8230990158304\u001b[0m\u001b[2m \u001b[0m│\u001b[2m \u001b[0m\u001b[2m4243.4…\u001b[0m\u001b[2m \u001b[0m│\u001b[2m \u001b[0m\u001b[2m0.2921…\u001b[0m\u001b[2m \u001b[0m│\u001b[2m \u001b[0m\u001b[2mTrue\u001b[0m\u001b[2m  \u001b[0m\u001b[2m \u001b[0m│\n",
              "│  0.00000000e+00]                                              │\u001b[2m                    \u001b[0m│\u001b[2m         \u001b[0m│\u001b[2m         \u001b[0m│\u001b[2m        \u001b[0m│\n",
              "│ [ 4.26287508 10.          0.          4.          0.        ] │\u001b[2m \u001b[0m\u001b[2m1479.6126300613555\u001b[0m\u001b[2m \u001b[0m│\u001b[2m \u001b[0m\u001b[2m4243.1…\u001b[0m\u001b[2m \u001b[0m│\u001b[2m \u001b[0m\u001b[2m0.2921…\u001b[0m\u001b[2m \u001b[0m│\u001b[2m \u001b[0m\u001b[2mTrue\u001b[0m\u001b[2m  \u001b[0m\u001b[2m \u001b[0m│\n",
              "│ [ 4.26161561 10.          0.          4.          0.        ] │\u001b[2m \u001b[0m\u001b[2m1479.5282456988034\u001b[0m\u001b[2m \u001b[0m│\u001b[2m \u001b[0m\u001b[2m4242.9…\u001b[0m\u001b[2m \u001b[0m│\u001b[2m \u001b[0m\u001b[2m0.2921…\u001b[0m\u001b[2m \u001b[0m│\u001b[2m \u001b[0m\u001b[2mTrue\u001b[0m\u001b[2m  \u001b[0m\u001b[2m \u001b[0m│\n",
              "│ [4.26041387e+00 1.00000000e+01 5.92554057e-17 4.00000000e+00  │\u001b[2m \u001b[0m\u001b[2m1479.4477294718465\u001b[0m\u001b[2m \u001b[0m│\u001b[2m \u001b[0m\u001b[2m4242.7…\u001b[0m\u001b[2m \u001b[0m│\u001b[2m \u001b[0m\u001b[2m0.2921…\u001b[0m\u001b[2m \u001b[0m│\u001b[2m \u001b[0m\u001b[2mTrue\u001b[0m\u001b[2m  \u001b[0m\u001b[2m \u001b[0m│\n",
              "│  3.63389077e-12]                                              │\u001b[2m                    \u001b[0m│\u001b[2m         \u001b[0m│\u001b[2m         \u001b[0m│\u001b[2m        \u001b[0m│\n",
              "│ [4.26848118e+00 9.99515597e+00 5.78372449e-07 4.00000000e+00  │\u001b[2m \u001b[0m\u001b[2m1479.5474576172464\u001b[0m\u001b[2m \u001b[0m│\u001b[2m \u001b[0m\u001b[2m4242.5…\u001b[0m\u001b[2m \u001b[0m│\u001b[2m \u001b[0m\u001b[2m0.2921…\u001b[0m\u001b[2m \u001b[0m│\u001b[2m \u001b[0m\u001b[2mTrue\u001b[0m\u001b[2m  \u001b[0m\u001b[2m \u001b[0m│\n",
              "│  0.00000000e+00]                                              │\u001b[2m                    \u001b[0m│\u001b[2m         \u001b[0m│\u001b[2m         \u001b[0m│\u001b[2m        \u001b[0m│\n",
              "│ [ 4.24929878 10.          0.          4.          0.        ] │\u001b[2m \u001b[0m\u001b[2m1478.7030180379882\u001b[0m\u001b[2m \u001b[0m│\u001b[2m \u001b[0m\u001b[2m4240.8…\u001b[0m\u001b[2m \u001b[0m│\u001b[2m \u001b[0m\u001b[2m0.2922…\u001b[0m\u001b[2m \u001b[0m│\u001b[2m \u001b[0m\u001b[2mTrue\u001b[0m\u001b[2m  \u001b[0m\u001b[2m \u001b[0m│\n",
              "│ [4.24210770e+00 1.00000000e+01 4.16401038e-03 3.99213689e+00  │\u001b[2m \u001b[0m\u001b[2m1478.0088791539604\u001b[0m\u001b[2m \u001b[0m│\u001b[2m \u001b[0m\u001b[2m4239.1…\u001b[0m\u001b[2m \u001b[0m│\u001b[2m \u001b[0m\u001b[2m0.2922…\u001b[0m\u001b[2m \u001b[0m│\u001b[2m \u001b[0m\u001b[2mTrue\u001b[0m\u001b[2m  \u001b[0m\u001b[2m \u001b[0m│\n",
              "│  7.25615430e-03]                                              │\u001b[2m                    \u001b[0m│\u001b[2m         \u001b[0m│\u001b[2m         \u001b[0m│\u001b[2m        \u001b[0m│\n",
              "│ [4.26634259e+00 9.95623341e+00 3.11793869e-05 4.00000000e+00  │\u001b[2m \u001b[0m\u001b[2m1475.8635346927551\u001b[0m\u001b[2m \u001b[0m│\u001b[2m \u001b[0m\u001b[2m4230.1…\u001b[0m\u001b[2m \u001b[0m│\u001b[2m \u001b[0m\u001b[2m0.2928…\u001b[0m\u001b[2m \u001b[0m│\u001b[2m \u001b[0m\u001b[2mTrue\u001b[0m\u001b[2m  \u001b[0m\u001b[2m \u001b[0m│\n",
              "│  0.00000000e+00]                                              │\u001b[2m                    \u001b[0m│\u001b[2m         \u001b[0m│\u001b[2m         \u001b[0m│\u001b[2m        \u001b[0m│\n",
              "│ [4.26829268 9.858232   0.         4.         0.        ]      │\u001b[2m \u001b[0m\u001b[2m1467.0747216946886\u001b[0m\u001b[2m \u001b[0m│\u001b[2m \u001b[0m\u001b[2m4200.0…\u001b[0m\u001b[2m \u001b[0m│\u001b[2m \u001b[0m\u001b[2m0.2946…\u001b[0m\u001b[2m \u001b[0m│\u001b[2m \u001b[0m\u001b[2mTrue\u001b[0m\u001b[2m  \u001b[0m\u001b[2m \u001b[0m│\n",
              "│ [4.26829268e+00 9.99994213e+00 0.00000000e+00 0.00000000e+00  │\u001b[2m \u001b[0m\u001b[2m1195.9703430158268\u001b[0m\u001b[2m \u001b[0m│\u001b[2m \u001b[0m\u001b[2m3799.9…\u001b[0m\u001b[2m \u001b[0m│\u001b[2m \u001b[0m\u001b[2m0.2949…\u001b[0m\u001b[2m \u001b[0m│\u001b[2m \u001b[0m\u001b[2mTrue\u001b[0m\u001b[2m  \u001b[0m\u001b[2m \u001b[0m│\n",
              "│  4.98436937e-10]                                              │\u001b[2m                    \u001b[0m│\u001b[2m         \u001b[0m│\u001b[2m         \u001b[0m│\u001b[2m        \u001b[0m│\n",
              "│ [4.26510309 9.81313085 0.         4.         0.        ]      │\u001b[2m \u001b[0m\u001b[2m1462.7568147389036\u001b[0m\u001b[2m \u001b[0m│\u001b[2m \u001b[0m\u001b[2m4185.5…\u001b[0m\u001b[2m \u001b[0m│\u001b[2m \u001b[0m\u001b[2m0.2954…\u001b[0m\u001b[2m \u001b[0m│\u001b[2m \u001b[0m\u001b[2mTrue\u001b[0m\u001b[2m  \u001b[0m\u001b[2m \u001b[0m│\n",
              "│ [4.26829268 9.80766603 0.         3.99999999 0.        ]      │\u001b[2m \u001b[0m\u001b[2m1462.4732177840574\u001b[0m\u001b[2m \u001b[0m│\u001b[2m \u001b[0m\u001b[2m4184.3…\u001b[0m\u001b[2m \u001b[0m│\u001b[2m \u001b[0m\u001b[2m0.2954…\u001b[0m\u001b[2m \u001b[0m│\u001b[2m \u001b[0m\u001b[2mTrue\u001b[0m\u001b[2m  \u001b[0m\u001b[2m \u001b[0m│\n",
              "│ [4.26479364e+00 9.82185382e+00 0.00000000e+00 3.68795213e+00  │\u001b[2m \u001b[0m\u001b[2m1441.5136394513008\u001b[0m\u001b[2m \u001b[0m│\u001b[2m \u001b[0m\u001b[2m4153.6…\u001b[0m\u001b[2m \u001b[0m│\u001b[2m \u001b[0m\u001b[2m0.2955…\u001b[0m\u001b[2m \u001b[0m│\u001b[2m \u001b[0m\u001b[2mTrue\u001b[0m\u001b[2m  \u001b[0m\u001b[2m \u001b[0m│\n",
              "│  6.05074235e-03]                                              │\u001b[2m                    \u001b[0m│\u001b[2m         \u001b[0m│\u001b[2m         \u001b[0m│\u001b[2m        \u001b[0m│\n",
              "│ [ 3.97506845 10.          0.          1.39750458  0.0368002 ] │\u001b[2m \u001b[0m\u001b[2m1276.3988159191067\u001b[0m\u001b[2m \u001b[0m│\u001b[2m \u001b[0m\u001b[2m3907.4…\u001b[0m\u001b[2m \u001b[0m│\u001b[2m \u001b[0m\u001b[2m0.2959…\u001b[0m\u001b[2m \u001b[0m│\u001b[2m \u001b[0m\u001b[2mTrue\u001b[0m\u001b[2m  \u001b[0m\u001b[2m \u001b[0m│\n",
              "│ [ 4.09974753 10.          0.          0.12897651  0.        ] │\u001b[2m \u001b[0m\u001b[2m1193.8404167881654\u001b[0m\u001b[2m \u001b[0m│\u001b[2m \u001b[0m\u001b[2m3786.6…\u001b[0m\u001b[2m \u001b[0m│\u001b[2m \u001b[0m\u001b[2m0.2959…\u001b[0m\u001b[2m \u001b[0m│\u001b[2m \u001b[0m\u001b[2mTrue\u001b[0m\u001b[2m  \u001b[0m\u001b[2m \u001b[0m│\n",
              "│ [4.01291713 9.87684374 0.10236508 3.99630453 0.        ]      │\u001b[2m \u001b[0m\u001b[2m1455.7975480399118\u001b[0m\u001b[2m \u001b[0m│\u001b[2m \u001b[0m\u001b[2m4168.2…\u001b[0m\u001b[2m \u001b[0m│\u001b[2m \u001b[0m\u001b[2m0.2961…\u001b[0m\u001b[2m \u001b[0m│\u001b[2m \u001b[0m\u001b[2mTrue\u001b[0m\u001b[2m  \u001b[0m\u001b[2m \u001b[0m│\n",
              "│ [ 3.15124466 10.          0.          4.          0.        ] │\u001b[2m \u001b[0m\u001b[2m1405.1333921483122\u001b[0m\u001b[2m \u001b[0m│\u001b[2m \u001b[0m\u001b[2m4060.8…\u001b[0m\u001b[2m \u001b[0m│\u001b[2m \u001b[0m\u001b[2m0.2994…\u001b[0m\u001b[2m \u001b[0m│\u001b[2m \u001b[0m\u001b[2mTrue\u001b[0m\u001b[2m  \u001b[0m\u001b[2m \u001b[0m│\n",
              "│ [4.19240003e+00 9.09558188e+00 2.97459702e-03 3.32119170e+00  │\u001b[2m \u001b[0m\u001b[2m1344.5212712594212\u001b[0m\u001b[2m \u001b[0m│\u001b[2m \u001b[0m\u001b[2m3875.9…\u001b[0m\u001b[2m \u001b[0m│\u001b[2m \u001b[0m\u001b[2m0.3090…\u001b[0m\u001b[2m \u001b[0m│\u001b[2m \u001b[0m\u001b[2mTrue\u001b[0m\u001b[2m  \u001b[0m\u001b[2m \u001b[0m│\n",
              "│  0.00000000e+00]                                              │\u001b[2m                    \u001b[0m│\u001b[2m         \u001b[0m│\u001b[2m         \u001b[0m│\u001b[2m        \u001b[0m│\n",
              "│ [3.42066226e+00 9.16943441e+00 8.75732201e-03 2.88040193e+00  │\u001b[2m \u001b[0m\u001b[2m1268.524313806821\u001b[0m\u001b[2m \u001b[0m\u001b[2m \u001b[0m│\u001b[2m \u001b[0m\u001b[2m3723.6…\u001b[0m\u001b[2m \u001b[0m│\u001b[2m \u001b[0m\u001b[2m0.3131…\u001b[0m\u001b[2m \u001b[0m│\u001b[2m \u001b[0m\u001b[2mTrue\u001b[0m\u001b[2m  \u001b[0m\u001b[2m \u001b[0m│\n",
              "│  1.57867768e-03]                                              │\u001b[2m                    \u001b[0m│\u001b[2m         \u001b[0m│\u001b[2m         \u001b[0m│\u001b[2m        \u001b[0m│\n",
              "│ [4.26658934e+00 8.57251018e+00 5.09168819e-05 3.94315564e+00  │\u001b[2m \u001b[0m\u001b[2m1345.9276262009018\u001b[0m\u001b[2m \u001b[0m│\u001b[2m \u001b[0m\u001b[2m3794.8…\u001b[0m\u001b[2m \u001b[0m│\u001b[2m \u001b[0m\u001b[2m0.3173…\u001b[0m\u001b[2m \u001b[0m│\u001b[2m \u001b[0m\u001b[2mTrue\u001b[0m\u001b[2m  \u001b[0m\u001b[2m \u001b[0m│\n",
              "│  6.40608947e-05]                                              │\u001b[2m                    \u001b[0m│\u001b[2m         \u001b[0m│\u001b[2m         \u001b[0m│\u001b[2m        \u001b[0m│\n",
              "│ [ 0. 10.  0.  4.  0.]                                         │\u001b[2m \u001b[0m\u001b[2m1194.0\u001b[0m\u001b[2m            \u001b[0m\u001b[2m \u001b[0m│\u001b[2m \u001b[0m\u001b[2m3544.0\u001b[0m\u001b[2m \u001b[0m\u001b[2m \u001b[0m│\u001b[2m \u001b[0m\u001b[2m0.3202…\u001b[0m\u001b[2m \u001b[0m│\u001b[2m \u001b[0m\u001b[2mTrue\u001b[0m\u001b[2m  \u001b[0m\u001b[2m \u001b[0m│\n",
              "│ [4.26829268 5.63675376 0.         4.         0.        ]      │\u001b[2m \u001b[0m\u001b[2m1082.9202020370763\u001b[0m\u001b[2m \u001b[0m│\u001b[2m \u001b[0m\u001b[2m2891.3…\u001b[0m\u001b[2m \u001b[0m│\u001b[2m \u001b[0m\u001b[2m0.3692…\u001b[0m\u001b[2m \u001b[0m│\u001b[2m \u001b[0m\u001b[2mTrue\u001b[0m\u001b[2m  \u001b[0m\u001b[2m \u001b[0m│\n",
              "│ [4.26829268 1.43993504 0.         4.         0.        ]      │\u001b[2m \u001b[0m\u001b[2m701.0096987403181\u001b[0m\u001b[2m \u001b[0m\u001b[2m \u001b[0m│\u001b[2m \u001b[0m\u001b[2m1590.3…\u001b[0m\u001b[2m \u001b[0m│\u001b[2m \u001b[0m\u001b[2m0.4435…\u001b[0m\u001b[2m \u001b[0m│\u001b[2m \u001b[0m\u001b[2mTrue\u001b[0m\u001b[2m  \u001b[0m\u001b[2m \u001b[0m│\n",
              "│ [0.07668047 0.13741309 0.17955296 0.05416385 0.21243711]      │\u001b[2m \u001b[0m\u001b[2m34.094646850084615\u001b[0m\u001b[2m \u001b[0m│\u001b[2m \u001b[0m\u001b[2m71.994…\u001b[0m\u001b[2m \u001b[0m│\u001b[2m \u001b[0m\u001b[2m0.4977…\u001b[0m\u001b[2m \u001b[0m│\u001b[2m \u001b[0m\u001b[2mTrue\u001b[0m\u001b[2m  \u001b[0m\u001b[2m \u001b[0m│\n",
              "│ [0.07084431 0.01478716 0.51440263 0.0050926  0.42414769]      │\u001b[2m \u001b[0m\u001b[2m38.32848457739004\u001b[0m\u001b[2m \u001b[0m\u001b[2m \u001b[0m│\u001b[2m \u001b[0m\u001b[2m45.520…\u001b[0m\u001b[2m \u001b[0m│\u001b[2m \u001b[0m\u001b[2m0.5010…\u001b[0m\u001b[2m \u001b[0m│\u001b[2m \u001b[0m\u001b[2mTrue\u001b[0m\u001b[2m  \u001b[0m\u001b[2m \u001b[0m│\n",
              "│ [0.04163397 0.00691659 0.73874045 0.01596361 0.87384547]      │\u001b[2m \u001b[0m\u001b[2m56.416587117492554\u001b[0m\u001b[2m \u001b[0m│\u001b[2m \u001b[0m\u001b[2m55.212…\u001b[0m\u001b[2m \u001b[0m│\u001b[2m \u001b[0m\u001b[2m0.5027…\u001b[0m\u001b[2m \u001b[0m│\u001b[2m \u001b[0m\u001b[2mTrue\u001b[0m\u001b[2m  \u001b[0m\u001b[2m \u001b[0m│\n",
              "└───────────────────────────────────────────────────────────────┴────────────────────┴─────────┴─────────┴────────┘\n"
            ]
          },
          "metadata": {},
          "output_type": "display_data"
        }
      ],
      "source": [
        "cons.print(tabla)"
      ]
    }
  ],
  "metadata": {
    "colab": {
      "provenance": []
    },
    "kernelspec": {
      "display_name": "Python 3",
      "language": "python",
      "name": "python3"
    },
    "language_info": {
      "codemirror_mode": {
        "name": "ipython",
        "version": 3
      },
      "file_extension": ".py",
      "mimetype": "text/x-python",
      "name": "python",
      "nbconvert_exporter": "python",
      "pygments_lexer": "ipython3",
      "version": "3.12.3"
    }
  },
  "nbformat": 4,
  "nbformat_minor": 0
}
